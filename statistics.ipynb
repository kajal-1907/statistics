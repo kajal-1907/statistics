{
 "cells": [
  {
   "cell_type": "markdown",
   "id": "fc507dbf-c1d0-4ada-aacf-233127105f02",
   "metadata": {},
   "source": [
    "1.Explain the different types of data (qualitative and quantitative) and provide examples of each. Discuss\n",
    "nominal, ordinal, interval, and ratio scales."
   ]
  },
  {
   "cell_type": "markdown",
   "id": "56c25543-5b12-40c4-84b8-38a8bf142317",
   "metadata": {},
   "source": [
    "1. Qualitative data:-Describes qualities or characteristics. Its cannot bs measured numerically but can be categorized based on traits or labels.\n",
    "Example:-colors of cars (red,blue,green)\n",
    "types of animals(mammals, raptiles)\n",
    "brands od=f phones(vivo, apple)\n",
    "\n",
    "2.Quantitative data:- Represents quantities and can bs measured or conted It is numerical in nature.\n",
    "Example:- Height of individuals(170cm,165cm)\n",
    "Number of cars in a parking lot(25 cars)\n",
    "scores on a test(85,90,72)\n",
    "\n",
    "scales of measurement:\n",
    "1.Nominal scale :-Categories with no inherent order or ranking. its the simplest from of data.Data is on;u classified into distinct groups.\n",
    "Example:-Hair color(black,brown,blonde)\n",
    "Marital status(single,married,divorced)\n",
    "Types of fruits(apple.orange,bnana)\n",
    "\n",
    "2.ordnal scale:-Categories with a meaningful order or ranking,but the intervals between ranks may not be consistent.\n",
    "Example:-Customer satisfaction ratings(very satisfied,satisfeid,neutral)\n",
    "Education level(high school,undergraduate,graduate)\n",
    "class standings(firts place,second place)\n",
    "\n",
    "3.Interval scale:-Numeric scale with ordered categories,where the differnce between values is meaningful and consistent but there is no true zero point.\n",
    "Example:-\n",
    "IQ scores(100,110,120)\n",
    "Calendar yeas(1990,2000,2010)\n",
    "\n",
    "4.Ratio scale:-Numeric scale with orderd categories,consistent intervals,and a true zero point,allowing for meaningful ratios.\n",
    "Example:-\n",
    "Height(160cm,180cm)\n",
    "weight(50kg, 80kg)\n",
    "\n",
    "\n",
    "\n",
    "\n"
   ]
  },
  {
   "cell_type": "markdown",
   "id": "b37a2ebd-e507-433d-b83f-e25da1932e77",
   "metadata": {},
   "source": [
    "2. What are the measures of central tendency, and when should you use each? Discuss the mean, median,\n",
    "and mode with examples and situations where each is appropriate."
   ]
  },
  {
   "cell_type": "markdown",
   "id": "70b74420-96bb-498b-a4ab-c6b6fad56b17",
   "metadata": {},
   "source": [
    "Measurments of central tendency are statistical tools used to describe the center of a dataset.The three main measures are mean ,median and mode and each is useful in diffrent situation =s depending on the nature of the data and the goal of analysis.\n",
    "\n",
    "1.Mean :-\n",
    "        the mean(or average) is calculated by summing att the values in dataset and dividing by the number of values\n",
    "Example:-\n",
    "\n",
    "\n",
    "2.Median:- \n",
    "         The median is the middle value in a dataset when the values are arrenged in ascending order. if the dataset has an evan number of values ,the median is the average of the two middle numbers.\n",
    "\n",
    "3.Mode:-\n",
    "        The mode is the value that appears most frequently in a dataset .A dataset can have no mode, one mode (unimodal) or multiple modes (bimodal or multiple).\n",
    "\n"
   ]
  },
  {
   "cell_type": "markdown",
   "id": "40ea0951-edfb-43f3-9235-0149417c8edb",
   "metadata": {},
   "source": [
    "3.Explain the concept of dispersion how do variance and standard deviation measure the spread of data.\n"
   ]
  },
  {
   "cell_type": "markdown",
   "id": "0499b3a8-23d9-4bc7-8bf0-5fb20b8842ff",
   "metadata": {},
   "source": [
    "dispersion refers to the extent to which data points in a dataset are spread out or scatterd around a central value, such as the mean.It provides insights into the variability or spread of the daata common measures of dispersion include range,variance,and standard deviation.\n",
    "\n",
    "variance:-\n",
    "        variance measures the average squared deviation of each data point from the mean. It quantifies how much the values differ from the mean on average. to computer the cariance\n",
    "\n",
    "1.Find the mean (average) of the dataser \n",
    "2. subtract the mean from each data point to get the deviations\n",
    "3. square each deviation to eliminate negative values.\n",
    "4.Take the average of these squared deviations.\n",
    "\n",
    "   Standard Deviation:-\n",
    "standerd deviation is the square root ofv spread back to the sa,e units as the original data, making it easier to interpret.It tells ypu hpw much the data points typically deviate from the mean .\n",
    "How they measure spread :-\n",
    "\n",
    "*variance gives the overall squared devoiation and highlights large diffrence becouse of the squaring effect.\n",
    "\n",
    "\n",
    "*Standard deviation provides a more intuitive measure of dispersion , as it is in the same units as the data ,and it shows how far,on average ,the data points are from the mean."
   ]
  },
  {
   "cell_type": "markdown",
   "id": "288c4b85-e555-4709-81d6-426cb5dc5dc6",
   "metadata": {},
   "source": [
    "4.What is a box plot, and what can it tell you about the distribution of data?"
   ]
  },
  {
   "cell_type": "markdown",
   "id": "b86740b6-c4e4-4c69-8be8-ff74370e26ef",
   "metadata": {},
   "source": [
    "A box plot(or box-a -whisker plot) is a graphical representation used to summarize the distribution of a dataset.It provides a visual depiciation of key statistics and is useful for identifying the spread and skewness of tha data,as well as potential outliers.\n",
    "\n",
    "    A box plot typically shows:\n",
    "\n",
    "1. First quartille(Q1): The median of the lower half of the data ,marking the 25th percentile.\n",
    "\n",
    "2.Median(Q2) : The middle value of the dataset .displayed as a line inside the box.\n",
    "\n",
    "3.Thired Quartile(Q3): The median of the upper half of the data.marking the 75th percentile.\n",
    "\n",
    "4.Interquartile Range(IQR): The rrange between Q1 and Q3, showing the middle 50% of the data.it represents the box.\n",
    "\n",
    "5. Whiskers :- Lines that extend from Q1 and Q3 to show the range of data within 1.5 times the IQR. points outside this range are potential outlires.\n",
    "\n",
    "6. Outliers : Data points that fall singificantly outside the whiskers. they are plotted as indidual dots or markes.\n",
    "\n",
    "What a box plot can tell you:\n",
    "\n",
    "1. spread of data:- The length of the box and whiskers indicates how spread out the data is .\n",
    "2. Centers of the data :- The line inside the box represents thge median , giving a sense of the central tendency.\n",
    "3. Skewness:- If the median is not centered in the box ,or if one whisker is longer than the other ,it suggests skewness in the data.\n",
    "4.Outliers:- Points plotted outside the whoiskers indicate unusually high or low values that deviate from the rest of the data .\n",
    "5. Symmetry or asymmetry:- A symmetrical boix plot indicates a fairly balanced distribution, while asymmetry suggests skeqness.\n"
   ]
  },
  {
   "cell_type": "markdown",
   "id": "bee40a18-64a2-4743-bbbc-fe9a98fcbc4a",
   "metadata": {},
   "source": [
    "5. Discuss the role of random sampling in making inferences about populations"
   ]
  },
  {
   "cell_type": "markdown",
   "id": "93225d30-26da-43c2-a005-4adfde3beb6c",
   "metadata": {},
   "source": [
    "Random sampling plays a curcial role in making infernces about a popolation because it ensures that the sample selected represents the larger population as accurately as possible. \n",
    "\n",
    "1.Minimizes bias: By selecting individuals randomly , evary member of the popolation han an equal chance of being included in the sample .This reduces selection bias and ensures that  the sample is not skewed by external factors ,leading to more reliable results.\n",
    "\n",
    "2. Generalizability :- The goal of statistical inference is to make conclusions about the entire pulation based on the sample data. random sampling allowes researchers to generalize findings from the sample to the population with greater confidance ,assuming that the sample adequately represents the population.\n",
    "\n",
    "3. Foundation of probability theory : Random sampling allows the use of probablity theory to estimate population parameters .Tecniques like confidence intervals and hypothesis testing rely on the randomness of the sample to calculate margins of error and the likehood that the sample data reflects true populatins values.\n",
    "\n",
    "  4.Reduces sampling error:- While  some degree ofv sampling error is inevitable, randon sampling helps to ensure that this error is minimized. this is because random samples are more likly to capture rge natural variability in the population, producing morec accurate estimates of the populatuon parameters.\n",
    "\n",
    "5. Permits statical testin :- Many inferential statictical methods, such as-t tests, chi square tests, and ANOVA, assume that the sample data were drewn randomly from the population. "
   ]
  },
  {
   "cell_type": "markdown",
   "id": "0d5c0385-bdad-4184-bb8b-b2afebe8d9e3",
   "metadata": {},
   "source": [
    "6. Explain the concept of skewness and its types. How does skewness affect the interpretation of data?"
   ]
  },
  {
   "cell_type": "markdown",
   "id": "ebe8d6ff-956f-4069-9cd3-9c473ecc94b5",
   "metadata": {},
   "source": [
    "Skewness is a statistical measure that describes the asymmetry or departure from symmetry of a data distribution.When a dataset is perfectly symmetic, it has a skewnwss of zero. However, many reak- world data distribution are not perfectly symmetic and exhibit skewness ,which can be positive, negative,or zero.\n",
    "\n",
    "Types of skewness:\n",
    "\n",
    "1. Positive skewness:- In a positively skewed distribution,the tail on the right side(  higher values) is longer or fatter than the left side.\n",
    "   The mean is greater than the median,and the data is concentrated more on the left with outliers pulling the tail to the right .\n",
    "\n",
    "Example: Income distribution where most people earn lower wages but a few high earners raise the overall average.\n",
    "\n",
    "2. Negative Skewness :- In a negatively skewed distribution ,the tail on the left side (lower values) is longer of fatter than the right side\n",
    "   The mean is less than the median and the data is concentrated more on the right with outlires pulling the tail to the left.\n",
    "\n",
    "Example: Age of retirement, where most people retire at an older age but some retire early.\n",
    "\n",
    "3. Zero akewness :- Azero skewness indicates that tha data is perfectly symmetrical, and the mean ,median, and mode are all the same \n",
    "\n",
    "Example: A normal distribution is perfactly symmetrical.\n",
    "\n",
    "\n",
    "How skewness affects data interpretation:-\n",
    "\n",
    "1. Measures of cemtral tendency: In a skewed distribution , the mean is affected by the extreme values more than the median . Therefore, the median might give a better representation of central tendency in skewed data.\n",
    "\n",
    "2. Impact on statistical analysis:  Many statistical tests,like regression or t- tests, assume normally distributed data.  Skewness may violate these assumptions and lead to inaccurate interpretations.\n",
    "\n",
    "3.  Understanding data characteristics:  Skewness gives insights into the behavior of the dataset. positive skewness might indicate the presence of large outlires. While negative skewness might suggest more frequenr small values.\n",
    "\n",
    "4. Impact on Decisions:  In positively skewed data, the mean can be misleadingly high leading to ober - optimistic conclusions . In negatively skewed data , the mean may be artificially low leading to overl;y coutious interpretations."
   ]
  },
  {
   "cell_type": "markdown",
   "id": "1454173d-f5ba-450e-ad61-f347a8d5c7f9",
   "metadata": {},
   "source": [
    "7. What is the interquartile range (IQR), and how is it used to detect outliers."
   ]
  },
  {
   "cell_type": "markdown",
   "id": "446cf391-099c-4e04-8e2a-98f0f17bc32e",
   "metadata": {},
   "source": [
    "The Interquartile range is a measure of statistical dispersion and represents the range within which the central 50% of the diffrence between the third quartile and the foirst quartile.\n",
    "\n",
    "IQR=Q3-Q1\n",
    "\n",
    "The IQR is useful is useful for detecting outlirs becouse it focuses on the middle 50% of the data, avoiding the influence of extreme values.\n",
    "\n",
    "Outlier detection with IQR :-\n",
    "\n",
    "Outlire are typically defined as data points that lie below or above a certain range determined by  the IQR The common rule is:\n",
    "\n",
    "* Any data point below Q1-1.5* IQR is considered a low outlier.\n",
    "* Any data point above Q3+1.5* IQR is considered a high outlier."
   ]
  },
  {
   "cell_type": "markdown",
   "id": "65532d6a-561b-4d85-8679-f13863605d15",
   "metadata": {},
   "source": [
    "8.. Discuss the conditions under which the binomial distribution is used"
   ]
  },
  {
   "cell_type": "markdown",
   "id": "27ed1a85-66bb-4812-b522-3c843434c782",
   "metadata": {},
   "source": [
    "The binomial distribution is used to model number of successes in a fixed number of independent trials, where each trail has only two possible outcomes success a failure . The conditions under which the binomial distribution is appopriate include.\n",
    "\n",
    "1. Fixed number of trials:  There is a predetermined number of trials or experiments .Ech trial represents an independent event.\n",
    "\n",
    "2. Two possible  outcomes:  Each trial has onl;y two possible outcomes, commonly labeled as \" success\" or  \" failure\".\n",
    "\n",
    "3. Constant probability of success:  The probablity of success is the same for each trial .Similarly , the probablity of failut=re(1-p) is constant.\n",
    "\n",
    "4.Independence of trials :  The outcomes of individual trails are independent of each other , meaninig the result of one tral does not influence theresult of another.\n",
    "\n",
    "5. Discrete variable:  The number of successes is a discrete random variable  ( it can take values like 0,1,2..........n).\n",
    "\n",
    "\n",
    "Example: \n",
    "        If you flip a fair coin 10 times ( fixed number of trials , n=10) , and the probability of getting heads ( success) on each flip is 0.5, the binomial distribution can model the number of times heads appears in those 10 flips .\n",
    "\n",
    " * Quality control( the number of defective items in a batch)\n",
    "\n",
    " *  Surrvey results ( the number of people who say \" yes\" in a poll)\n",
    "\n",
    " *  Medical trails ( the number of patients who recover after a treatment)"
   ]
  },
  {
   "cell_type": "markdown",
   "id": "bf2ad437-915c-4f94-80a4-25d0a10094fe",
   "metadata": {},
   "source": [
    "9.. Explain the properties of the normal distribution and the empirical rule (68-95-99.7 rule)"
   ]
  },
  {
   "cell_type": "markdown",
   "id": "777e233d-1019-4155-919e-9ec59b6ae56a",
   "metadata": {},
   "source": [
    "Properties of the normal distribution:-\n",
    "\n",
    "1. Symmetry :  The normal distribution is symmetric about its mean meaning the left half mirrors the right half .\n",
    "\n",
    "2. Bell- shapped curve: It has a bell- shapped curve where most of the data clusters around the mean. the curve approaches the horizontal axis but never touches it.\n",
    "\n",
    "3.Mean, median, and mode :  In a normal distribution, the mean , median  and mode are all equal and located at the center of the distribution.\n",
    "\n",
    "4. Unimodal: The distribution has a single peak , meaning one mode or the most frequent value .\n",
    "\n",
    "5. Asymptotic: Th tails of the normal  distribution extend infinitely in bith directions but never touch the horizontal axis .\n",
    "\n",
    "6. Defined by mean and standard:  The shape and loaction of the normal ditribution are determined by two parameters The mean , which indicates the central location , and the standard deviation, which measures the spread or width of the urve.\n",
    "\n",
    "The empirical rule (68-95-99.7 rule)\n",
    "\n",
    "The empirical rule applies to data that followes a normal distribution and gives an approximation of how data is distributed across standard deviations from the mean . The rules states.\n",
    "\n",
    "* 68% of the data falls within 1 standard deviation of the mean \n",
    "\n",
    "* 95% of the data falls within 2 standard deviations of the mean \n",
    "\n",
    "* 99.7% of the data falls within 3 standard deviations oof the mean."
   ]
  },
  {
   "cell_type": "markdown",
   "id": "c5b521a1-9a6a-4159-9cdb-5033049e85fd",
   "metadata": {},
   "source": [
    "10.. Provide a real-life example of a Poisson process and calculate the probability for a specific event."
   ]
  },
  {
   "cell_type": "markdown",
   "id": "deb6b4df-1bc8-4a26-9c2e-c765cdaea427",
   "metadata": {},
   "source": [
    " A Poisson process is a statistical process that models the occurrence of events that happen independently and at a constant average rate over time or space. It's often used when we are counting the number of events happening in a fixed interval of time or space.\n",
    "\n",
    "Example Scenario: Phone Calls in a Customer Service Center Suppose a customer service center receives an average of 5 phone calls per hour. The number of calls arriving in any given hour follows a Poisson distribution because:\n",
    "\n",
    "Events are independent: One phone call doesn’t affect whether another call will arrive. Constant average rate: The average number of calls (5 per hour) is constant over time. Only one event happens at a time: A single phone call happens at a time, and we don’t get \"half a call.\"\n",
    "\n",
    "Traffic Accidents: The number of accidents at an intersection in a day can be modeled as a Poisson process if accidents occur randomly but at a constant average rate.\n",
    "\n",
    "Emails Arriving in an Inbox: If emails arrive at an average rate of 10 per hour, the Poisson distribution can model the probability of receiving a certain number of emails in a given hour.\n",
    "\n",
    "Hospital Emergency Room Arrivals: The number of patients arriving at an emergency room in a night can be modeled as a Poisson process if patient arrivals are random but follow a predictable average rate.\n",
    "\n",
    "import math\n",
    "from scipy.stats import poisson\n",
    "\n",
    "lambda_rate = 5  \n",
    "k = 8  \n",
    "\n",
    "poisson_probability = (math.exp(-lambda_rate) * lambda_rate**k) / math.factorial(k)\n",
    "\n",
    "poisson_probability_scipy = poisson.pmf(k, lambda_rate)\n",
    "\n",
    "print(f\"Probability of receiving exactly {k} calls in an hour: {poisson_probability:.4f}\")\n",
    "print(f\"Probability using scipy: {poisson_probability_scipy:.4f}\")"
   ]
  },
  {
   "cell_type": "markdown",
   "id": "3b9bfcf8-d434-4ba5-b0cd-231912b0de6c",
   "metadata": {},
   "source": [
    "11. Explain what a random variable is and differentiate between discrete and continuous random variables."
   ]
  },
  {
   "cell_type": "markdown",
   "id": "dcc49898-91fe-4cfe-a863-f88b67ea5d8a",
   "metadata": {},
   "source": [
    "A random variable is a numerical outcome of a random phenomenon or experiment. It assigns a number to each outcome of a sample space , making it easier to analyze  and calculate probabilities . There are two main types of random variables.\n",
    "\n",
    "1. Discrete random variable:  Adiscrete random variable takes on a countable number of distinct values .These values can be finite or infinite, but they are typically whole numbers . \n",
    "\n",
    "Example:  Let x be the number of heads in 3 flips of a coin. posible values for x are 0,1,2, or 3.\n",
    "\n",
    "\n",
    "Continuous random variable : A continuous random variable takes on an infinite number of possibl values within a given range. These values are typically real numbers and can represent measurements like height, weight, or time . Since the number of possible values is infinite, we typcally work with the probability of the variable falling within an interval, rather than at a specific point.\n",
    "\n",
    "Example:   Let Y be height of students in a class. Y can take value within a range , such as between 4.5 feel and 6.5 feet."
   ]
  },
  {
   "cell_type": "markdown",
   "id": "daa00220-5cac-490a-8153-18671413c737",
   "metadata": {},
   "source": [
    "12. Provide an example dataset, calculate both covariance and correlation, and interpret the results"
   ]
  },
  {
   "cell_type": "markdown",
   "id": "d8c50b10-94f4-45f2-84fa-ef6876c4cd27",
   "metadata": {},
   "source": [
    " Dataset:\n",
    "| *x* | *y* |\n",
    "|------|------|\n",
    "|  2   |  3   |\n",
    "|  4   |  6   |\n",
    "|  6   |  7   |\n",
    "|  8   |  10  |\n",
    "|  10  |  15  |\n",
    "\n",
    "\n",
    "\n",
    "\n",
    "from IPython.display import Image\n",
    "\n",
    "Image(filename=r'C:\\Users\\Jotiba\\OneDrive\\Desktop\\Assignment Images of Statistics\\Coelation Example.png')\n",
    "\n",
    "#### Interpretation:\n",
    "Covariance: The positive covariance value of 14 indicates that \n",
    "x and \n",
    "y tend to increase together. However, the magnitude of covariance is difficult to interpret directly as it depends on the units of \n",
    "x and \n",
    "y.\n",
    "\n",
    "Correlation: The correlation coefficient of 0.973 suggests a strong positive linear relationship between \n",
    "x and \n",
    "y. Since the value is close to 1, it indicates that as \n",
    "x increases, \n",
    "y also increases in a near-linear fashion. Correlation is standardized and more interpretable than covariance, showing the strength of the relationship without being affected by the units of the variables.\n",
    "#Python Example\n",
    "\n",
    "import pandas as pd\n",
    "\n",
    "# Example dataset\n",
    "data = {\n",
    "    'x': [2, 4, 6, 8, 10],\n",
    "    'y': [3, 6, 7, 10, 15]\n",
    "}\n",
    "\n",
    "# Creating a DataFrame\n",
    "df = pd.DataFrame(data)\n",
    "\n",
    "# Calculate covariance\n",
    "covariance = df['x'].cov(df['y'])\n",
    "\n",
    "# Calculate correlation\n",
    "correlation = df['x'].corr(df['y'])\n",
    "\n",
    "# Output the results\n",
    "print(f\"Covariance: {covariance}\")\n",
    "print(f\"Correlation: {correlation}\")"
   ]
  },
  {
   "cell_type": "code",
   "execution_count": null,
   "id": "61e5fb78-8c2f-4a10-98b1-3df0df6898d1",
   "metadata": {},
   "outputs": [],
   "source": []
  }
 ],
 "metadata": {
  "kernelspec": {
   "display_name": "Python 3 (ipykernel)",
   "language": "python",
   "name": "python3"
  },
  "language_info": {
   "codemirror_mode": {
    "name": "ipython",
    "version": 3
   },
   "file_extension": ".py",
   "mimetype": "text/x-python",
   "name": "python",
   "nbconvert_exporter": "python",
   "pygments_lexer": "ipython3",
   "version": "3.12.4"
  }
 },
 "nbformat": 4,
 "nbformat_minor": 5
}
